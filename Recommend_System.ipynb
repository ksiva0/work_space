{
 "cells": [
  {
   "cell_type": "code",
   "execution_count": 1,
   "id": "a914ca09-098c-4c3f-a689-56449219b392",
   "metadata": {},
   "outputs": [],
   "source": [
    "import pandas as pd\n",
    "import numpy as np"
   ]
  },
  {
   "cell_type": "code",
   "execution_count": 2,
   "id": "fa8b7de7-aadf-4140-9c1e-a87752f84442",
   "metadata": {},
   "outputs": [
    {
     "data": {
      "text/html": [
       "<div>\n",
       "<style scoped>\n",
       "    .dataframe tbody tr th:only-of-type {\n",
       "        vertical-align: middle;\n",
       "    }\n",
       "\n",
       "    .dataframe tbody tr th {\n",
       "        vertical-align: top;\n",
       "    }\n",
       "\n",
       "    .dataframe thead th {\n",
       "        text-align: right;\n",
       "    }\n",
       "</style>\n",
       "<table border=\"1\" class=\"dataframe\">\n",
       "  <thead>\n",
       "    <tr style=\"text-align: right;\">\n",
       "      <th></th>\n",
       "      <th>firstName</th>\n",
       "      <th>lastName</th>\n",
       "      <th>updatedOn</th>\n",
       "      <th>assessmentTitle</th>\n",
       "      <th>assessmentID</th>\n",
       "      <th>totalNumberQuestions</th>\n",
       "      <th>questionsDone</th>\n",
       "      <th>overallScore</th>\n",
       "      <th>GRADE</th>\n",
       "    </tr>\n",
       "  </thead>\n",
       "  <tbody>\n",
       "    <tr>\n",
       "      <th>0</th>\n",
       "      <td>Little Jimmy</td>\n",
       "      <td>Jr.</td>\n",
       "      <td>2023-11-27 16:40:13.329</td>\n",
       "      <td>Interpreting the weather</td>\n",
       "      <td>NaN</td>\n",
       "      <td>0</td>\n",
       "      <td>0</td>\n",
       "      <td>0.000000</td>\n",
       "      <td>1</td>\n",
       "    </tr>\n",
       "    <tr>\n",
       "      <th>1</th>\n",
       "      <td>Learnt</td>\n",
       "      <td>Africa</td>\n",
       "      <td>2023-08-07 08:46:48.538</td>\n",
       "      <td>Basic Addition Part One</td>\n",
       "      <td>NaN</td>\n",
       "      <td>0</td>\n",
       "      <td>0</td>\n",
       "      <td>0.000000</td>\n",
       "      <td>1</td>\n",
       "    </tr>\n",
       "    <tr>\n",
       "      <th>2</th>\n",
       "      <td>Collins</td>\n",
       "      <td>Kesuibai</td>\n",
       "      <td>2023-07-06 16:51:03.625</td>\n",
       "      <td>Morning Greetings</td>\n",
       "      <td>NaN</td>\n",
       "      <td>0</td>\n",
       "      <td>0</td>\n",
       "      <td>0.000000</td>\n",
       "      <td>1</td>\n",
       "    </tr>\n",
       "    <tr>\n",
       "      <th>3</th>\n",
       "      <td>Learnt</td>\n",
       "      <td>Africa</td>\n",
       "      <td>2022-04-22 20:19:30.877</td>\n",
       "      <td>NaN</td>\n",
       "      <td>e2qxi19gMDjRHzmJ0EuJ</td>\n",
       "      <td>2</td>\n",
       "      <td>2</td>\n",
       "      <td>1.000000</td>\n",
       "      <td>1</td>\n",
       "    </tr>\n",
       "    <tr>\n",
       "      <th>4</th>\n",
       "      <td>Mark</td>\n",
       "      <td>Moriama</td>\n",
       "      <td>2022-04-22 21:48:30.971</td>\n",
       "      <td>NaN</td>\n",
       "      <td>WQIiM5iXz8tqUwyi6n1K</td>\n",
       "      <td>2</td>\n",
       "      <td>2</td>\n",
       "      <td>0.500000</td>\n",
       "      <td>1</td>\n",
       "    </tr>\n",
       "    <tr>\n",
       "      <th>...</th>\n",
       "      <td>...</td>\n",
       "      <td>...</td>\n",
       "      <td>...</td>\n",
       "      <td>...</td>\n",
       "      <td>...</td>\n",
       "      <td>...</td>\n",
       "      <td>...</td>\n",
       "      <td>...</td>\n",
       "      <td>...</td>\n",
       "    </tr>\n",
       "    <tr>\n",
       "      <th>90</th>\n",
       "      <td>Collins</td>\n",
       "      <td>Kesuibai</td>\n",
       "      <td>2022-08-24 18:35:11.584</td>\n",
       "      <td>Counting Numbers 1-10</td>\n",
       "      <td>N6EFBOe2aCeglrUR2qUy</td>\n",
       "      <td>7</td>\n",
       "      <td>11</td>\n",
       "      <td>1.800000</td>\n",
       "      <td>1</td>\n",
       "    </tr>\n",
       "    <tr>\n",
       "      <th>91</th>\n",
       "      <td>Learnt</td>\n",
       "      <td>Africa</td>\n",
       "      <td>2023-12-27 10:57:42.419</td>\n",
       "      <td>Counting Numbers 20 - 30</td>\n",
       "      <td>N6EFBOe2aCeglrUR2qUy</td>\n",
       "      <td>7</td>\n",
       "      <td>7</td>\n",
       "      <td>1.000000</td>\n",
       "      <td>1</td>\n",
       "    </tr>\n",
       "    <tr>\n",
       "      <th>92</th>\n",
       "      <td>Learnt</td>\n",
       "      <td>Africa</td>\n",
       "      <td>2024-05-05 14:44:12.761</td>\n",
       "      <td>Counting Numbers 1-10</td>\n",
       "      <td>N6EFBOe2aCeglrUR2qUy</td>\n",
       "      <td>7</td>\n",
       "      <td>7</td>\n",
       "      <td>1.000000</td>\n",
       "      <td>1</td>\n",
       "    </tr>\n",
       "    <tr>\n",
       "      <th>93</th>\n",
       "      <td>Mark</td>\n",
       "      <td>Moriama</td>\n",
       "      <td>2022-06-20 10:07:53.693</td>\n",
       "      <td>Counting Numbers 1-10</td>\n",
       "      <td>N6EFBOe2aCeglrUR2qUy</td>\n",
       "      <td>7</td>\n",
       "      <td>7</td>\n",
       "      <td>0.571429</td>\n",
       "      <td>1</td>\n",
       "    </tr>\n",
       "    <tr>\n",
       "      <th>94</th>\n",
       "      <td>Joash</td>\n",
       "      <td>Olum Girls</td>\n",
       "      <td>2022-08-31 07:43:27.867</td>\n",
       "      <td>Counting Numbers 1-10</td>\n",
       "      <td>N6EFBOe2aCeglrUR2qUy</td>\n",
       "      <td>7</td>\n",
       "      <td>12</td>\n",
       "      <td>1.000000</td>\n",
       "      <td>1</td>\n",
       "    </tr>\n",
       "  </tbody>\n",
       "</table>\n",
       "<p>95 rows × 9 columns</p>\n",
       "</div>"
      ],
      "text/plain": [
       "       firstName    lastName               updatedOn  \\\n",
       "0   Little Jimmy         Jr. 2023-11-27 16:40:13.329   \n",
       "1         Learnt      Africa 2023-08-07 08:46:48.538   \n",
       "2        Collins    Kesuibai 2023-07-06 16:51:03.625   \n",
       "3         Learnt      Africa 2022-04-22 20:19:30.877   \n",
       "4           Mark     Moriama 2022-04-22 21:48:30.971   \n",
       "..           ...         ...                     ...   \n",
       "90       Collins    Kesuibai 2022-08-24 18:35:11.584   \n",
       "91        Learnt      Africa 2023-12-27 10:57:42.419   \n",
       "92        Learnt      Africa 2024-05-05 14:44:12.761   \n",
       "93          Mark     Moriama 2022-06-20 10:07:53.693   \n",
       "94         Joash  Olum Girls 2022-08-31 07:43:27.867   \n",
       "\n",
       "             assessmentTitle          assessmentID  totalNumberQuestions  \\\n",
       "0   Interpreting the weather                   NaN                     0   \n",
       "1    Basic Addition Part One                   NaN                     0   \n",
       "2          Morning Greetings                   NaN                     0   \n",
       "3                        NaN  e2qxi19gMDjRHzmJ0EuJ                     2   \n",
       "4                        NaN  WQIiM5iXz8tqUwyi6n1K                     2   \n",
       "..                       ...                   ...                   ...   \n",
       "90     Counting Numbers 1-10  N6EFBOe2aCeglrUR2qUy                     7   \n",
       "91  Counting Numbers 20 - 30  N6EFBOe2aCeglrUR2qUy                     7   \n",
       "92     Counting Numbers 1-10  N6EFBOe2aCeglrUR2qUy                     7   \n",
       "93     Counting Numbers 1-10  N6EFBOe2aCeglrUR2qUy                     7   \n",
       "94     Counting Numbers 1-10  N6EFBOe2aCeglrUR2qUy                     7   \n",
       "\n",
       "    questionsDone  overallScore  GRADE  \n",
       "0               0      0.000000      1  \n",
       "1               0      0.000000      1  \n",
       "2               0      0.000000      1  \n",
       "3               2      1.000000      1  \n",
       "4               2      0.500000      1  \n",
       "..            ...           ...    ...  \n",
       "90             11      1.800000      1  \n",
       "91              7      1.000000      1  \n",
       "92              7      1.000000      1  \n",
       "93              7      0.571429      1  \n",
       "94             12      1.000000      1  \n",
       "\n",
       "[95 rows x 9 columns]"
      ]
     },
     "execution_count": 2,
     "metadata": {},
     "output_type": "execute_result"
    }
   ],
   "source": [
    "df = pd.read_excel(r\"C:\\Users\\sivak\\Excel_files\\Assessment_Data.xlsx\")\n",
    "df"
   ]
  },
  {
   "cell_type": "code",
   "execution_count": 79,
   "id": "998dfb77-a71a-4113-a66d-444c82753ae5",
   "metadata": {},
   "outputs": [],
   "source": [
    "df = df.dropna(subset=['assessmentID', 'assessmentTitle']).copy()\n",
    "\n",
    "# Create unique identifier for students and rename columns as needed\n",
    "df['student_name'] = df['firstName'].fillna('') + ' ' + df['lastName'].fillna('')\n",
    "df_for_model = df[['student_name', 'assessmentID', 'overallScore', 'assessmentTitle']]"
   ]
  },
  {
   "cell_type": "code",
   "execution_count": 96,
   "id": "986acea8-3b3c-49e0-ad91-ad7b6fa43077",
   "metadata": {},
   "outputs": [],
   "source": [
    "import tensorflow as tf\n",
    "import tensorflow_recommenders as tfrs\n",
    "from tensorflow.keras import layers"
   ]
  },
  {
   "cell_type": "code",
   "execution_count": 98,
   "id": "2bab5ac8-42a9-44da-8aa1-3002094fb011",
   "metadata": {},
   "outputs": [
    {
     "name": "stderr",
     "output_type": "stream",
     "text": [
      "C:\\Users\\sivak\\AppData\\Local\\Temp\\ipykernel_8720\\2481267760.py:1: SettingWithCopyWarning: \n",
      "A value is trying to be set on a copy of a slice from a DataFrame.\n",
      "Try using .loc[row_indexer,col_indexer] = value instead\n",
      "\n",
      "See the caveats in the documentation: https://pandas.pydata.org/pandas-docs/stable/user_guide/indexing.html#returning-a-view-versus-a-copy\n",
      "  df_for_model['student_name'] = df_for_model['student_name'].astype(str)\n",
      "C:\\Users\\sivak\\AppData\\Local\\Temp\\ipykernel_8720\\2481267760.py:2: SettingWithCopyWarning: \n",
      "A value is trying to be set on a copy of a slice from a DataFrame.\n",
      "Try using .loc[row_indexer,col_indexer] = value instead\n",
      "\n",
      "See the caveats in the documentation: https://pandas.pydata.org/pandas-docs/stable/user_guide/indexing.html#returning-a-view-versus-a-copy\n",
      "  df_for_model['assessmentID'] = df_for_model['assessmentID'].astype(str)\n",
      "C:\\Users\\sivak\\AppData\\Local\\Temp\\ipykernel_8720\\2481267760.py:3: SettingWithCopyWarning: \n",
      "A value is trying to be set on a copy of a slice from a DataFrame.\n",
      "Try using .loc[row_indexer,col_indexer] = value instead\n",
      "\n",
      "See the caveats in the documentation: https://pandas.pydata.org/pandas-docs/stable/user_guide/indexing.html#returning-a-view-versus-a-copy\n",
      "  df_for_model['overallScore'] = df_for_model['overallScore'].astype(float)\n"
     ]
    }
   ],
   "source": [
    "df_for_model['student_name'] = df_for_model['student_name'].astype(str)\n",
    "df_for_model['assessmentID'] = df_for_model['assessmentID'].astype(str)\n",
    "df_for_model['overallScore'] = df_for_model['overallScore'].astype(float)"
   ]
  },
  {
   "cell_type": "code",
   "execution_count": 100,
   "id": "139cdfb7-ead3-4c6a-824b-424194b8aae6",
   "metadata": {},
   "outputs": [],
   "source": [
    "# Define unique mappings for student_name and assessmentID\n",
    "student_name_lookup = layers.StringLookup(vocabulary=df_for_model['student_name'].unique(), mask_token=None)\n",
    "assessment_id_lookup = layers.StringLookup(vocabulary=df_for_model['assessmentID'].unique(), mask_token=None)\n",
    "assessment_id_lookup_inv = layers.StringLookup(vocabulary=df_for_model['assessmentID'].unique(), mask_token=None, invert=True)"
   ]
  },
  {
   "cell_type": "code",
   "execution_count": 102,
   "id": "d12bd3d0-6261-4cef-b416-e72024d765cd",
   "metadata": {},
   "outputs": [],
   "source": [
    "# Convert data to a TensorFlow dataset and map names to integer IDs\n",
    "tf_dataset = tf.data.Dataset.from_tensor_slices({\n",
    "    'student_name': student_name_lookup(df_for_model['student_name'].values),\n",
    "    'assessmentID': assessment_id_lookup(df_for_model['assessmentID'].values),\n",
    "    'score': df_for_model['overallScore'].values\n",
    "}).batch(128)"
   ]
  },
  {
   "cell_type": "code",
   "execution_count": 104,
   "id": "3e70451e-2356-489e-9246-e9a371688afc",
   "metadata": {},
   "outputs": [],
   "source": [
    "class CFModel(tfrs.Model):\n",
    "    def __init__(self, unique_students, unique_assessments):\n",
    "        super().__init__()\n",
    "        embedding_dim = 32\n",
    "        # Embedding layers\n",
    "        self.user_embedding = layers.Embedding(input_dim=unique_students, output_dim=embedding_dim)\n",
    "        self.item_embedding = layers.Embedding(input_dim=unique_assessments, output_dim=embedding_dim)\n",
    "        \n",
    "        # Precompute candidate embeddings\n",
    "        candidate_embeddings = self.item_embedding(tf.range(unique_assessments))\n",
    "        \n",
    "        # Retrieval task with precomputed embeddings\n",
    "        self.task = tfrs.tasks.Retrieval(\n",
    "            metrics=tfrs.metrics.FactorizedTopK(candidates=candidate_embeddings)\n",
    "        )\n",
    "\n",
    "    def compute_loss(self, features, training=False):\n",
    "        user_embeddings = self.user_embedding(features[\"student_name\"])\n",
    "        item_embeddings = self.item_embedding(features[\"assessmentID\"])\n",
    "        return self.task(user_embeddings, item_embeddings, compute_metrics=not training)"
   ]
  },
  {
   "cell_type": "code",
   "execution_count": 106,
   "id": "e89bcbe0-4e9a-4907-861f-3830b166a9ad",
   "metadata": {},
   "outputs": [],
   "source": [
    "# Get unique counts for embedding layers\n",
    "unique_students = len(student_name_lookup.get_vocabulary())\n",
    "unique_assessments = len(assessment_id_lookup.get_vocabulary())"
   ]
  },
  {
   "cell_type": "code",
   "execution_count": 108,
   "id": "4c2b0650-f587-4190-9bcb-a1e5a4cd512b",
   "metadata": {},
   "outputs": [
    {
     "name": "stdout",
     "output_type": "stream",
     "text": [
      "Epoch 1/5\n"
     ]
    },
    {
     "name": "stderr",
     "output_type": "stream",
     "text": [
      "C:\\Users\\sivak\\anaconda3\\Lib\\site-packages\\keras\\src\\layers\\layer.py:372: UserWarning: `build()` was called on layer 'retrieval_17', however the layer does not have a `build()` method implemented and it looks like it has unbuilt state. This will cause the layer to be marked as built, despite not being actually built, which may cause failures down the line. Make sure to implement a proper `build()` method.\n",
      "  warnings.warn(\n"
     ]
    },
    {
     "name": "stdout",
     "output_type": "stream",
     "text": [
      "\u001b[1m1/1\u001b[0m \u001b[32m━━━━━━━━━━━━━━━━━━━━\u001b[0m\u001b[37m\u001b[0m \u001b[1m2s\u001b[0m 2s/step - factorized_top_k/top_100_categorical_accuracy: 0.0000e+00 - factorized_top_k/top_10_categorical_accuracy: 0.0000e+00 - factorized_top_k/top_1_categorical_accuracy: 0.0000e+00 - factorized_top_k/top_50_categorical_accuracy: 0.0000e+00 - factorized_top_k/top_5_categorical_accuracy: 0.0000e+00 - loss: 404.9844 - regularization_loss: 0.0000e+00 - total_loss: 404.9844\n",
      "Epoch 2/5\n",
      "\u001b[1m1/1\u001b[0m \u001b[32m━━━━━━━━━━━━━━━━━━━━\u001b[0m\u001b[37m\u001b[0m \u001b[1m0s\u001b[0m 28ms/step - factorized_top_k/top_100_categorical_accuracy: 0.0000e+00 - factorized_top_k/top_10_categorical_accuracy: 0.0000e+00 - factorized_top_k/top_1_categorical_accuracy: 0.0000e+00 - factorized_top_k/top_50_categorical_accuracy: 0.0000e+00 - factorized_top_k/top_5_categorical_accuracy: 0.0000e+00 - loss: 402.3571 - regularization_loss: 0.0000e+00 - total_loss: 402.3571\n",
      "Epoch 3/5\n",
      "\u001b[1m1/1\u001b[0m \u001b[32m━━━━━━━━━━━━━━━━━━━━\u001b[0m\u001b[37m\u001b[0m \u001b[1m0s\u001b[0m 32ms/step - factorized_top_k/top_100_categorical_accuracy: 0.0000e+00 - factorized_top_k/top_10_categorical_accuracy: 0.0000e+00 - factorized_top_k/top_1_categorical_accuracy: 0.0000e+00 - factorized_top_k/top_50_categorical_accuracy: 0.0000e+00 - factorized_top_k/top_5_categorical_accuracy: 0.0000e+00 - loss: 379.5435 - regularization_loss: 0.0000e+00 - total_loss: 379.5435\n",
      "Epoch 4/5\n",
      "\u001b[1m1/1\u001b[0m \u001b[32m━━━━━━━━━━━━━━━━━━━━\u001b[0m\u001b[37m\u001b[0m \u001b[1m0s\u001b[0m 40ms/step - factorized_top_k/top_100_categorical_accuracy: 0.0000e+00 - factorized_top_k/top_10_categorical_accuracy: 0.0000e+00 - factorized_top_k/top_1_categorical_accuracy: 0.0000e+00 - factorized_top_k/top_50_categorical_accuracy: 0.0000e+00 - factorized_top_k/top_5_categorical_accuracy: 0.0000e+00 - loss: 405.5479 - regularization_loss: 0.0000e+00 - total_loss: 405.5479\n",
      "Epoch 5/5\n",
      "\u001b[1m1/1\u001b[0m \u001b[32m━━━━━━━━━━━━━━━━━━━━\u001b[0m\u001b[37m\u001b[0m \u001b[1m0s\u001b[0m 31ms/step - factorized_top_k/top_100_categorical_accuracy: 0.0000e+00 - factorized_top_k/top_10_categorical_accuracy: 0.0000e+00 - factorized_top_k/top_1_categorical_accuracy: 0.0000e+00 - factorized_top_k/top_50_categorical_accuracy: 0.0000e+00 - factorized_top_k/top_5_categorical_accuracy: 0.0000e+00 - loss: 490.5203 - regularization_loss: 0.0000e+00 - total_loss: 490.5203\n"
     ]
    },
    {
     "data": {
      "text/plain": [
       "<keras.src.callbacks.history.History at 0x2bbf004d610>"
      ]
     },
     "execution_count": 108,
     "metadata": {},
     "output_type": "execute_result"
    }
   ],
   "source": [
    "model = CFModel(unique_students, unique_assessments)\n",
    "model.compile(optimizer=tf.keras.optimizers.Adagrad(0.5))\n",
    "\n",
    "model.fit(tf_dataset, epochs=5)"
   ]
  },
  {
   "cell_type": "code",
   "execution_count": 110,
   "id": "6f85348b-a692-4200-a6f6-4ffd7fd41913",
   "metadata": {},
   "outputs": [],
   "source": [
    "assessment_titles = df_for_model[['assessmentID', 'assessmentTitle']].drop_duplicates().set_index('assessmentID')['assessmentTitle'].to_dict()\n",
    "\n",
    "def get_recommendations(model, student_name, top_k=10):\n",
    "    student_id = student_name_lookup(tf.constant([student_name]))\n",
    "    user_embedding = model.user_embedding(student_id)\n",
    "    \n",
    "    scores = tf.matmul(user_embedding, model.item_embedding.embeddings, transpose_b=True)\n",
    "    top_items = tf.argsort(scores, axis=1, direction=\"DESCENDING\")[:, :top_k]\n",
    "    \n",
    "    recommended_assessment_ids = assessment_id_lookup_inv(top_items.numpy().flatten())\n",
    "\n",
    "    \n",
    "    recommended_assessments = []\n",
    "    for assessment_id in recommended_assessment_ids:\n",
    "        title = assessment_titles.get(str(assessment_id.numpy().decode('utf-8')), \"Unknown Title\")\n",
    "        recommended_assessments.append(title)\n",
    "    \n",
    "    return recommended_assessments"
   ]
  },
  {
   "cell_type": "code",
   "execution_count": 114,
   "id": "93eaf886-8b1c-4ccd-8ee2-39b57d03278d",
   "metadata": {},
   "outputs": [
    {
     "name": "stdout",
     "output_type": "stream",
     "text": [
      "Recommended Assessment Titles: ['Alphabets Lesson 1 (A-M)', 'Courtesy Words', 'Alphabets Lesson 2 (Upper and Lower Case)', 'Our solar system', 'Counting Numbers 10 - 20', 'Evening Greetings', 'Counting Numbers 20 - 30', 'Afternoon Greetings', 'Morning Greetings', 'Unknown Title']\n"
     ]
    }
   ],
   "source": [
    "student_name = 'John Doe'\n",
    "recommended_assessments = get_recommendations(model, student_name)\n",
    "print(\"Recommended Assessment Titles:\", recommended_assessments)\n"
   ]
  },
  {
   "cell_type": "code",
   "execution_count": null,
   "id": "0034e696-d89c-4ff1-85f0-9f9bcf929776",
   "metadata": {},
   "outputs": [],
   "source": []
  }
 ],
 "metadata": {
  "kernelspec": {
   "display_name": "Python 3 (ipykernel)",
   "language": "python",
   "name": "python3"
  },
  "language_info": {
   "codemirror_mode": {
    "name": "ipython",
    "version": 3
   },
   "file_extension": ".py",
   "mimetype": "text/x-python",
   "name": "python",
   "nbconvert_exporter": "python",
   "pygments_lexer": "ipython3",
   "version": "3.12.3"
  }
 },
 "nbformat": 4,
 "nbformat_minor": 5
}
