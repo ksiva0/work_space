import pandas as pd, numpy as np
import matplotlib.pyplot as plt
import seaborn as sns
from sklearn.model_selection import train_test_split
from sklearn.preprocessing import OneHotEncoder
from fastFM import als
import tensorflow as tf
from tensorflow import keras
from sklearn.metrics import mean_absolute_error, mean_squared_error, r2_score

data = pd.read_excel("Assessment_Data.xlsx")

data.fillna(0, inplace=True)  # Handle NaNs
features = data[['firstName', 'lastName', 'assessmentTitle']]
target = data['overallScore']

# One-hot encoding for categorical variables
encoder = OneHotEncoder()
encoded_features = encoder.fit_transform(features).toarray()

# Split the data
X_train, X_test, y_train, y_test = train_test_split(encoded_features, target, test_size=0.2, random_state=42)

# Neural Network Model
nn_model = keras.Sequential([
    keras.layers.Dense(64, activation='relu', input_shape=(X_train.shape[1],)),
    keras.layers.Dense(32, activation='relu'),
    keras.layers.Dense(1)  # Assuming a regression task
])

nn_model.compile(optimizer='adam', loss='mse')
nn_model.fit(X_train, y_train, epochs=10, validation_split=0.1)

# Factorization Machine Model
fm_model = als.FMRegression(n_iter=100, rank=8, l2_reg=0.1)
fm_model.fit(X_train, y_train)

# Evaluate both models
nn_predictions = nn_model.predict(X_test)
fm_predictions = fm_model.predict(X_test)

# Calculate metrics
nn_rmse = np.sqrt(mean_squared_error(y_test, nn_predictions))
nn_mae = mean_absolute_error(y_test, nn_predictions)
nn_r2 = r2_score(y_test, nn_predictions)

fm_rmse = np.sqrt(mean_squared_error(y_test, fm_predictions))
fm_mae = mean_absolute_error(y_test, fm_predictions)
fm_r2 = r2_score(y_test, fm_predictions)

# Print evaluation metrics
print(f"Neural Network - RMSE: {nn_rmse}, MAE: {nn_mae}, R²: {nn_r2}")
print(f"Factorization Machine - RMSE: {fm_rmse}, MAE: {fm_mae}, R²: {fm_r2}")
